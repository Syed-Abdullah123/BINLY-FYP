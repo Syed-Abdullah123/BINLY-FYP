{
 "cells": [
  {
   "cell_type": "code",
   "execution_count": 10,
   "metadata": {},
   "outputs": [],
   "source": [
    "from flask import Flask, request, jsonify\n",
    "from flask_cors import CORS\n",
    "import os\n",
    "from werkzeug.utils import secure_filename\n",
    "import numpy as np\n",
    "import cv2\n",
    "import tensorflow as tf\n",
    "from tensorflow.keras.models import Sequential, Model\n",
    "from tensorflow.keras.layers import Dense, Flatten, Dropout, Activation\n",
    "from tensorflow.keras.applications import VGG16\n",
    "from tensorflow.keras.optimizers import Adam\n",
    "from tensorflow.keras.regularizers import l2\n",
    "import socket"
   ]
  },
  {
   "cell_type": "code",
   "execution_count": 11,
   "metadata": {},
   "outputs": [],
   "source": [
    "app = Flask(__name__)\n",
    "CORS(app, resources={r\"/*\": {\"origins\": \"*\"}})  # Enable CORS with more permissive settings\n",
    "\n",
    "# Configuration\n",
    "UPLOAD_FOLDER = 'uploads'\n",
    "ALLOWED_EXTENSIONS = {'png', 'jpg', 'jpeg'}\n",
    "MODEL_PATH = 'final-year-project2-model.keras'\n",
    "\n",
    "app.config['UPLOAD_FOLDER'] = UPLOAD_FOLDER\n",
    "app.config['MAX_CONTENT_LENGTH'] = 16 * 1024 * 1024  # 16MB max file size\n",
    "\n",
    "# Create uploads folder if it doesn't exist\n",
    "os.makedirs(UPLOAD_FOLDER, exist_ok=True)"
   ]
  },
  {
   "cell_type": "code",
   "execution_count": 12,
   "metadata": {},
   "outputs": [],
   "source": [
    "# Get local IP address\n",
    "def get_local_ip():\n",
    "    try:\n",
    "        # Create a socket connection to get the local IP\n",
    "        s = socket.socket(socket.AF_INET, socket.SOCK_DGRAM)\n",
    "        s.connect((\"8.8.8.8\", 80))\n",
    "        local_ip = s.getsockname()[0]\n",
    "        # print(local_ip)\n",
    "        s.close()\n",
    "        return local_ip\n",
    "    except Exception:\n",
    "        return \"127.0.0.1\"  # Fallback to localhost"
   ]
  },
  {
   "cell_type": "code",
   "execution_count": 13,
   "metadata": {},
   "outputs": [],
   "source": [
    "class WasteClassifier:\n",
    "    def __init__(self, weights_path):\n",
    "        self.categories = ['can', 'glass', 'paper', 'plastic', 'plastic_bag', 'styrofoam']\n",
    "\n",
    "        # Create model architecture\n",
    "        base_model = VGG16(weights='imagenet',\n",
    "                          include_top=False,\n",
    "                          input_shape=(224, 224, 3))\n",
    "\n",
    "        for layer in base_model.layers:\n",
    "            layer.trainable = False\n",
    "\n",
    "        model = Sequential([\n",
    "            base_model,\n",
    "            Flatten(),\n",
    "            Dense(128, kernel_regularizer=l2(0.01)),\n",
    "            Activation('relu'),\n",
    "            Dropout(0.6),\n",
    "            Dense(len(self.categories), activation='softmax')\n",
    "        ])\n",
    "\n",
    "        optimizer = Adam(learning_rate=0.0001)\n",
    "        model.compile(\n",
    "            loss='sparse_categorical_crossentropy',\n",
    "            optimizer=optimizer,\n",
    "            metrics=['accuracy']\n",
    "        )\n",
    "\n",
    "        model.build((None, 224, 224, 3))\n",
    "        model.load_weights(weights_path)\n",
    "        self.model = model\n",
    "\n",
    "    def preprocess_image(self, image_path):\n",
    "        img = cv2.imread(image_path)\n",
    "        if img is None:\n",
    "            raise ValueError(f\"Could not load image at {image_path}\")\n",
    "\n",
    "        img = cv2.cvtColor(img, cv2.COLOR_BGR2RGB)\n",
    "        img = cv2.resize(img, (224, 224))\n",
    "        img = img.astype(np.float32) / 255.0\n",
    "        img = np.expand_dims(img, axis=0)\n",
    "        return img\n",
    "\n",
    "    def predict_image(self, image_path):\n",
    "        processed_image = self.preprocess_image(image_path)\n",
    "        predictions = self.model.predict(processed_image, verbose=0)\n",
    "\n",
    "        predicted_class_idx = np.argmax(predictions[0])\n",
    "        confidence = float(predictions[0][predicted_class_idx])\n",
    "\n",
    "        return {\n",
    "            'class': self.categories[predicted_class_idx],\n",
    "            'confidence': confidence,\n",
    "            'predictions': {\n",
    "                category: float(conf)\n",
    "                for category, conf in zip(self.categories, predictions[0])\n",
    "            }\n",
    "        }\n"
   ]
  },
  {
   "cell_type": "code",
   "execution_count": 14,
   "metadata": {},
   "outputs": [
    {
     "name": "stdout",
     "output_type": "stream",
     "text": [
      "Model loaded successfully!\n"
     ]
    }
   ],
   "source": [
    "# Initialize the classifier\n",
    "try:\n",
    "    classifier = WasteClassifier(MODEL_PATH)\n",
    "    print(\"Model loaded successfully!\")\n",
    "except Exception as e:\n",
    "    print(f\"Error loading model: {str(e)}\")\n",
    "    classifier = None\n",
    "\n",
    "def allowed_file(filename):\n",
    "    return '.' in filename and filename.rsplit('.', 1)[1].lower() in ALLOWED_EXTENSIONS\n",
    "\n",
    "@app.route('/health', methods=['GET'])\n",
    "def health_check():\n",
    "    return jsonify({'status': 'healthy', 'model_loaded': classifier is not None})\n",
    "\n",
    "@app.route('/predict', methods=['POST'])\n",
    "def predict():\n",
    "    if classifier is None:\n",
    "        return jsonify({'success': False, 'error': 'Model not initialized'}), 503\n",
    "\n",
    "    if 'image' not in request.files:\n",
    "        return jsonify({'success': False, 'error': 'No image file provided'}), 400\n",
    "\n",
    "    file = request.files['image']\n",
    "    if file.filename == '':\n",
    "        return jsonify({'success': False, 'error': 'No selected file'}), 400\n",
    "\n",
    "    if file and allowed_file(file.filename):\n",
    "        try:\n",
    "            # Save the file temporarily\n",
    "            filename = secure_filename(file.filename)\n",
    "            filepath = os.path.join(app.config['UPLOAD_FOLDER'], filename)\n",
    "            file.save(filepath)\n",
    "\n",
    "            # Make prediction\n",
    "            result = classifier.predict_image(filepath)\n",
    "\n",
    "            # Clean up\n",
    "            os.remove(filepath)\n",
    "\n",
    "            return jsonify({\n",
    "                'success': True,\n",
    "                'prediction': result\n",
    "            })\n",
    "\n",
    "        except Exception as e:\n",
    "            # Log the error for debugging\n",
    "            print(f\"Prediction error: {str(e)}\")\n",
    "            return jsonify({\n",
    "                'success': False,\n",
    "                'error': str(e)\n",
    "            }), 500\n",
    "\n",
    "    return jsonify({'success': False, 'error': 'Invalid file type'}), 400"
   ]
  },
  {
   "cell_type": "code",
   "execution_count": 17,
   "metadata": {},
   "outputs": [
    {
     "name": "stdout",
     "output_type": "stream",
     "text": [
      "Server running on: http://172.0.1.87:5000\n",
      " * Serving Flask app '__main__'\n",
      " * Debug mode: off\n"
     ]
    },
    {
     "name": "stderr",
     "output_type": "stream",
     "text": [
      "WARNING: This is a development server. Do not use it in a production deployment. Use a production WSGI server instead.\n",
      " * Running on all addresses (0.0.0.0)\n",
      " * Running on http://127.0.0.1:5000\n",
      " * Running on http://172.0.1.87:5000\n",
      "Press CTRL+C to quit\n",
      "172.0.2.89 - - [02/Dec/2024 12:58:13] \"GET /health HTTP/1.1\" 200 -\n",
      "172.0.2.89 - - [02/Dec/2024 12:59:55] \"POST /predict HTTP/1.1\" 400 -\n",
      "172.0.2.89 - - [02/Dec/2024 13:01:22] \"POST /predict HTTP/1.1\" 200 -\n",
      "172.0.2.89 - - [02/Dec/2024 13:01:45] \"POST /predict HTTP/1.1\" 400 -\n"
     ]
    }
   ],
   "source": [
    "if __name__ == '__main__':\n",
    "    local_ip = get_local_ip()\n",
    "    print(f\"Server running on: http://{local_ip}:5000\")\n",
    "    app.run(host='0.0.0.0', port=5000, debug=False, threaded=True)"
   ]
  },
  {
   "cell_type": "code",
   "execution_count": null,
   "metadata": {},
   "outputs": [],
   "source": []
  }
 ],
 "metadata": {
  "kernelspec": {
   "display_name": "Python 3",
   "language": "python",
   "name": "python3"
  },
  "language_info": {
   "codemirror_mode": {
    "name": "ipython",
    "version": 3
   },
   "file_extension": ".py",
   "mimetype": "text/x-python",
   "name": "python",
   "nbconvert_exporter": "python",
   "pygments_lexer": "ipython3",
   "version": "3.12.6"
  }
 },
 "nbformat": 4,
 "nbformat_minor": 2
}
